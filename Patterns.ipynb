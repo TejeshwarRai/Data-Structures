{
 "cells": [
  {
   "cell_type": "markdown",
   "metadata": {},
   "source": [
    "# Patterns"
   ]
  },
  {
   "cell_type": "markdown",
   "metadata": {},
   "source": [
    "### Pattern 1"
   ]
  },
  {
   "cell_type": "code",
   "execution_count": 1,
   "metadata": {},
   "outputs": [
    {
     "name": "stdout",
     "output_type": "stream",
     "text": [
      "Enter no. of lines: 5\n",
      "* \n",
      "* * \n",
      "* * * \n",
      "* * * * \n",
      "* * * * * \n"
     ]
    }
   ],
   "source": [
    "n = int(input(\"Enter no. of lines: \"))\n",
    "for i in range(n):\n",
    "    for j in range(i+1):\n",
    "        print(\"*\", end=\" \")\n",
    "    print()"
   ]
  },
  {
   "cell_type": "markdown",
   "metadata": {},
   "source": [
    "### Pattern 2"
   ]
  },
  {
   "cell_type": "code",
   "execution_count": 2,
   "metadata": {},
   "outputs": [
    {
     "name": "stdout",
     "output_type": "stream",
     "text": [
      "Enter no. of lines: 5\n",
      "            * \n",
      "          * * \n",
      "        * * * \n",
      "      * * * * \n",
      "    * * * * * \n"
     ]
    }
   ],
   "source": [
    "n = int(input(\"Enter no. of lines: \"))\n",
    "for i in range(n):\n",
    "    for j in range(n-i+1):\n",
    "        print(\" \",end=\" \")\n",
    "    for j in range(i+1):\n",
    "        print(\"*\", end=\" \")\n",
    "    print()"
   ]
  },
  {
   "cell_type": "markdown",
   "metadata": {},
   "source": [
    "### Pattern 3\n"
   ]
  },
  {
   "cell_type": "code",
   "execution_count": 3,
   "metadata": {},
   "outputs": [
    {
     "name": "stdout",
     "output_type": "stream",
     "text": [
      "Enter no. of lines: 5\n",
      "     * \n",
      "    * * \n",
      "   * * * \n",
      "  * * * * \n",
      " * * * * * \n"
     ]
    }
   ],
   "source": [
    "n = int(input(\"Enter no. of lines: \"))\n",
    "for i in range(n):\n",
    "    for j in range(n-i):\n",
    "        print(\" \",end=\"\")\n",
    "    for j in range(i+1):\n",
    "        print(\"*\", end=\" \")\n",
    "    print()"
   ]
  },
  {
   "cell_type": "markdown",
   "metadata": {},
   "source": [
    "### Pattern 4"
   ]
  },
  {
   "cell_type": "code",
   "execution_count": 9,
   "metadata": {},
   "outputs": [
    {
     "name": "stdout",
     "output_type": "stream",
     "text": [
      "Enter no. of lines: 8\n",
      "    * \n",
      "   * * \n",
      "  * * * \n",
      " * * * * \n",
      "  * * * \n",
      "   * * \n",
      "    * \n"
     ]
    }
   ],
   "source": [
    "m = int(input(\"Enter no. of lines: \"))\n",
    "n = m//2\n",
    "for i in range(n):\n",
    "    for j in range(n-i):\n",
    "        print(\" \",end=\"\")\n",
    "    for j in range(i+1):\n",
    "        print(\"*\", end=\" \")\n",
    "    print()\n",
    "for i in range(n-1,0,-1):\n",
    "    for j in range(n-i+1):\n",
    "        print(\" \",end=\"\")\n",
    "    for j in range(i):\n",
    "        print(\"*\", end=\" \")\n",
    "    print()\n"
   ]
  },
  {
   "cell_type": "markdown",
   "metadata": {},
   "source": [
    "### Pattern 5"
   ]
  },
  {
   "cell_type": "code",
   "execution_count": 10,
   "metadata": {},
   "outputs": [
    {
     "name": "stdout",
     "output_type": "stream",
     "text": [
      "Enter no. of lines: 9\n",
      "* * * * * * * * * \n",
      "* *           * * \n",
      "*   *       *   * \n",
      "*     *   *     * \n",
      "*       *       * \n",
      "*     *   *     * \n",
      "*   *       *   * \n",
      "* *           * * \n",
      "* * * * * * * * * \n"
     ]
    }
   ],
   "source": [
    "n = int(input(\"Enter no. of lines: \"))\n",
    "for i in range(n):\n",
    "    if (i==0 or i==n-1):\n",
    "        for j in range(n):\n",
    "            print (\"*\", end=\" \")\n",
    "    else:\n",
    "        for j in range(n):\n",
    "            if (j==0 or j==n-1 or j==i or j==n-i-1):\n",
    "                print (\"*\", end=\" \")\n",
    "            else:\n",
    "                print (\" \", end=\" \")\n",
    "    print()"
   ]
  },
  {
   "cell_type": "markdown",
   "metadata": {},
   "source": [
    "### Pattern 6"
   ]
  },
  {
   "cell_type": "code",
   "execution_count": 11,
   "metadata": {},
   "outputs": [
    {
     "name": "stdout",
     "output_type": "stream",
     "text": [
      "Enter no. of lines: 5\n",
      "* \n",
      "* * \n",
      "*   * \n",
      "*     * \n",
      "* * * * * \n"
     ]
    }
   ],
   "source": [
    "n = int(input(\"Enter no. of lines: \"))\n",
    "for i in range(n):\n",
    "    if (i==n-1):\n",
    "        for j in range(i+1):\n",
    "            print(\"*\", end=\" \")\n",
    "    else:\n",
    "        for j in range(i+1):\n",
    "            if (j==0 or j==i ):\n",
    "                print(\"*\", end=\" \")\n",
    "            else:\n",
    "                print(\" \", end=\" \")            \n",
    "    print()"
   ]
  },
  {
   "cell_type": "markdown",
   "metadata": {},
   "source": [
    "### Pattern 7"
   ]
  },
  {
   "cell_type": "code",
   "execution_count": 12,
   "metadata": {},
   "outputs": [
    {
     "name": "stdout",
     "output_type": "stream",
     "text": [
      "Enter no. of lines: 5\n",
      "1\n",
      "1*2\n",
      "1*2*3\n",
      "1*2*3*4\n",
      "1*2*3*4*5\n"
     ]
    }
   ],
   "source": [
    "n = int(input(\"Enter no. of lines: \"))\n",
    "for i in range(n):\n",
    "    for j in range(i+1):\n",
    "        if (j==0):\n",
    "            print(j+1, end=\"\")            \n",
    "        else:\n",
    "            print(\"*\", end=\"\")\n",
    "            print(j+1, end=\"\")\n",
    "    print()"
   ]
  },
  {
   "cell_type": "markdown",
   "metadata": {},
   "source": [
    "### Pattern 8"
   ]
  },
  {
   "cell_type": "code",
   "execution_count": 13,
   "metadata": {},
   "outputs": [
    {
     "name": "stdout",
     "output_type": "stream",
     "text": [
      "Enter no. of lines: 5\n",
      "          1\n",
      "        2*3\n",
      "      3*4*5\n",
      "    4*5*6*7\n",
      "  5*6*7*8*9\n"
     ]
    }
   ],
   "source": [
    "n = int(input(\"Enter no. of lines: \"))\n",
    "ctr = 0\n",
    "for i in range(n):\n",
    "    for j in range(n-i):\n",
    "        print(\" \", end=\" \")             \n",
    "    for j in range(i+1):\n",
    "        ctr1 = ctr+1\n",
    "        if (j==0):\n",
    "            print(ctr1+j, end=\"\")            \n",
    "        else:\n",
    "            print(\"*\", end=\"\")\n",
    "            print(ctr1+j, end=\"\")\n",
    "    ctr+=1\n",
    "    print()"
   ]
  },
  {
   "cell_type": "markdown",
   "metadata": {},
   "source": [
    "### Pattern 9"
   ]
  },
  {
   "cell_type": "code",
   "execution_count": 14,
   "metadata": {},
   "outputs": [
    {
     "name": "stdout",
     "output_type": "stream",
     "text": [
      "Enter no. of lines: 5\n",
      "1 \n",
      "2 3 \n",
      "3 4 5 \n",
      "4 5 6 7 \n",
      "5 6 7 8 9 \n",
      "4 5 6 7 \n",
      "3 4 5 \n",
      "2 3 \n",
      "1 \n"
     ]
    }
   ],
   "source": [
    "n = int(input(\"Enter no. of lines: \"))\n",
    "ctr = 0\n",
    "for i in range(n):\n",
    "    ctr+=1\n",
    "    for j in range(i+1):\n",
    "        print(j+ctr, end=\" \")\n",
    "    print()\n",
    "for i in range(n-2,-1,-1):\n",
    "    ctr-=1\n",
    "    for j in range(i+1):\n",
    "        print(j+ctr, end=\" \")\n",
    "    print()"
   ]
  },
  {
   "cell_type": "markdown",
   "metadata": {},
   "source": [
    "### Pattern 10"
   ]
  },
  {
   "cell_type": "code",
   "execution_count": 15,
   "metadata": {},
   "outputs": [
    {
     "name": "stdout",
     "output_type": "stream",
     "text": [
      "Enter no. of lines: 5\n",
      "*                 * \n",
      "* *             * * \n",
      "* * *         * * * \n",
      "* * * *     * * * * \n",
      "* * * * * * * * * * \n",
      "* * * *     * * * * \n",
      "* * *         * * * \n",
      "* *             * * \n",
      "*                 * \n"
     ]
    }
   ],
   "source": [
    "n = int(input(\"Enter no. of lines: \"))\n",
    "for i in range(n):\n",
    "    for j in range(i+1):\n",
    "        print(\"*\", end=\" \")\n",
    "    for j in range(n*2-i*2-2):\n",
    "        print(\" \", end=\" \")\n",
    "    for j in range(i+1):\n",
    "        print(\"*\", end=\" \")\n",
    "    print()\n",
    "for i in range(n-2,-1,-1):\n",
    "    for j in range(i+1):\n",
    "        print(\"*\", end=\" \")\n",
    "    for j in range(n*2-i*2-2):\n",
    "        print(\" \", end=\" \")\n",
    "    for j in range(i+1):\n",
    "        print(\"*\", end=\" \")\n",
    "    print()"
   ]
  },
  {
   "cell_type": "markdown",
   "metadata": {},
   "source": [
    "### Pattern 11"
   ]
  },
  {
   "cell_type": "code",
   "execution_count": 16,
   "metadata": {},
   "outputs": [
    {
     "name": "stdout",
     "output_type": "stream",
     "text": [
      "Enter no. of lines: 5\n",
      "1                 1 \n",
      "2 3             3 2 \n",
      "3 4 5         5 4 3 \n",
      "4 5 6 7     7 6 5 4 \n",
      "5 6 7 8 9 9 8 7 6 5 \n",
      "4 5 6 7     7 6 5 4 \n",
      "3 4 5         5 4 3 \n",
      "2 3             3 2 \n",
      "1                 1 \n"
     ]
    }
   ],
   "source": [
    "n = int(input(\"Enter no. of lines: \"))\n",
    "ctr = 0\n",
    "for i in range(n):\n",
    "    ctr+=1\n",
    "    for j in range(i+1):\n",
    "        print(j+ctr, end=\" \")\n",
    "    for j in range(n*2-i*2-2):\n",
    "        print(\" \", end=\" \")\n",
    "    for j in range(i,-1,-1):\n",
    "        print(j+ctr, end=\" \")\n",
    "    print()\n",
    "for i in range(n-2,-1,-1):\n",
    "    ctr-=1\n",
    "    for j in range(i+1):\n",
    "        print(j+ctr, end=\" \")\n",
    "    for j in range(n*2-i*2-2):\n",
    "        print(\" \", end=\" \")\n",
    "    for j in range(i,-1,-1):\n",
    "        print(j+ctr, end=\" \")\n",
    "    print()"
   ]
  },
  {
   "cell_type": "markdown",
   "metadata": {},
   "source": [
    "### Pattern 13"
   ]
  },
  {
   "cell_type": "code",
   "execution_count": 17,
   "metadata": {
    "scrolled": true
   },
   "outputs": [
    {
     "name": "stdout",
     "output_type": "stream",
     "text": [
      "Enter no. of lines: 5\n",
      "1               1 \n",
      "2 3           3 2 \n",
      "3 4 5       5 4 3 \n",
      "4 5 6 7   7 6 5 4 \n",
      "5 6 7 8 9 8 7 6 5 \n",
      "4 5 6 7   7 6 5 4 \n",
      "3 4 5       5 4 3 \n",
      "2 3           3 2 \n",
      "1               1 \n"
     ]
    }
   ],
   "source": [
    "n = int(input(\"Enter no. of lines: \"))\n",
    "ctr = 0\n",
    "for i in range(n-1):\n",
    "    ctr+=1\n",
    "    for j in range(i+1):\n",
    "        print(j+ctr, end=\" \")\n",
    "    for j in range(n*2-i*2-3):\n",
    "        print(\" \", end=\" \")\n",
    "    for j in range(i,-1,-1):\n",
    "        print(j+ctr, end=\" \")\n",
    "    print()\n",
    "for i in range(n-1,n):\n",
    "    ctr+=1\n",
    "    ctr1=ctr\n",
    "    for j in range(i+1):\n",
    "        print(j+ctr, end=\" \")\n",
    "    for j in range(n*2-i*2-2):\n",
    "        print(\" \", end=\" \")\n",
    "    for j in range(i,0,-1):\n",
    "        print(j+ctr1-1, end=\" \")\n",
    "    print()\n",
    "for i in range(n-2,-1,-1):\n",
    "    ctr-=1\n",
    "    for j in range(i+1):\n",
    "        print(j+ctr, end=\" \")\n",
    "    for j in range(n*2-i*2-3):\n",
    "        print(\" \", end=\" \")\n",
    "    for j in range(i,-1,-1):\n",
    "        print(j+ctr, end=\" \")\n",
    "    print()"
   ]
  },
  {
   "cell_type": "markdown",
   "metadata": {},
   "source": [
    "### Pattern 14"
   ]
  },
  {
   "cell_type": "code",
   "execution_count": 18,
   "metadata": {},
   "outputs": [
    {
     "name": "stdout",
     "output_type": "stream",
     "text": [
      "Enter no. of lines: 5\n",
      "        1 \n",
      "      1 2 1 \n",
      "    1 2 3 2 1 \n",
      "  1 2 3 4 3 2 1 \n",
      "1 2 3 4 5 4 3 2 1 \n"
     ]
    }
   ],
   "source": [
    "n = int(input(\"Enter no. of lines: \"))\n",
    "for i in range(n):\n",
    "    for j in range(n-i-1):\n",
    "        print(\" \", end=\" \")    \n",
    "    for j in range(i+1):\n",
    "        print(j+1, end=\" \")   \n",
    "        final = j\n",
    "    for j in range(i,0,-1):\n",
    "        print(j, end=\" \")   \n",
    "    print()"
   ]
  },
  {
   "cell_type": "markdown",
   "metadata": {},
   "source": [
    "### Pattern 15"
   ]
  },
  {
   "cell_type": "code",
   "execution_count": 19,
   "metadata": {},
   "outputs": [
    {
     "name": "stdout",
     "output_type": "stream",
     "text": [
      "Enter no. of lines: 5\n",
      "1 2 3 4 5 6 6 5 4 3 2 1 \n",
      "1 2 3 4 5 * * 5 4 3 2 1 \n",
      "1 2 3 4 * * * * 4 3 2 1 \n",
      "1 2 3 * * * * * * 3 2 1 \n",
      "1 2 * * * * * * * * 2 1 \n",
      "1 * * * * * * * * * * 1 \n"
     ]
    }
   ],
   "source": [
    "n = int(input(\"Enter no. of lines: \"))\n",
    "for i in range(n,-1,-1):\n",
    "    for j in range(i+1):\n",
    "        print(j+1,end=\" \")\n",
    "    for j in range(n*2-i*2):\n",
    "        print(\"*\",end=\" \") \n",
    "    for j in range(i+1,0,-1):\n",
    "        print(j,end=\" \")\n",
    "    print()"
   ]
  }
 ],
 "metadata": {
  "kernelspec": {
   "display_name": "Python 3",
   "language": "python",
   "name": "python3"
  },
  "language_info": {
   "codemirror_mode": {
    "name": "ipython",
    "version": 3
   },
   "file_extension": ".py",
   "mimetype": "text/x-python",
   "name": "python",
   "nbconvert_exporter": "python",
   "pygments_lexer": "ipython3",
   "version": "3.8.5"
  }
 },
 "nbformat": 4,
 "nbformat_minor": 4
}

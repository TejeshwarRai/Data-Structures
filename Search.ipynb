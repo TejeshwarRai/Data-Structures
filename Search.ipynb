{
 "cells": [
  {
   "cell_type": "markdown",
   "metadata": {},
   "source": [
    "# Searching"
   ]
  },
  {
   "cell_type": "markdown",
   "metadata": {},
   "source": [
    "### Linear Search"
   ]
  },
  {
   "cell_type": "code",
   "execution_count": 29,
   "metadata": {
    "scrolled": true
   },
   "outputs": [
    {
     "name": "stdout",
     "output_type": "stream",
     "text": [
      "Enter Length of list: 5\n",
      "Enter element to find: 1\n",
      "1\n",
      "2\n",
      "3\n",
      "4\n",
      "5\n",
      "True\n"
     ]
    }
   ],
   "source": [
    "n = int(input(\"Enter Length of list: \"))\n",
    "x = int(input(\"Enter element to find: \"))\n",
    "arr = []\n",
    "for i in range(n):\n",
    "    ele = int(input())\n",
    "    arr.append(ele)\n",
    "a = False\n",
    "for i in range(len(arr)):\n",
    "    if (arr[i]==x):\n",
    "        a = True\n",
    "print(a)"
   ]
  },
  {
   "cell_type": "code",
   "execution_count": 9,
   "metadata": {
    "scrolled": true
   },
   "outputs": [
    {
     "name": "stdout",
     "output_type": "stream",
     "text": [
      "Enter Length of list: 5\n",
      "Enter element to find: 5\n",
      "5\n",
      "5\n",
      "5\n",
      "6\n",
      "3\n",
      "0\n"
     ]
    }
   ],
   "source": [
    "def linearSearch(arr,x):\n",
    "    for i in range(len(arr)):\n",
    "        if (arr[i]==x):\n",
    "            return i\n",
    "    return -1\n",
    "n = int(input(\"Enter Length of list: \"))\n",
    "x = int(input(\"Enter element to find: \"))\n",
    "arr = [int(input()) for _ in range(n)]\n",
    "print(linearSearch(arr,x))"
   ]
  },
  {
   "cell_type": "code",
   "execution_count": 36,
   "metadata": {},
   "outputs": [
    {
     "name": "stdout",
     "output_type": "stream",
     "text": [
      "Enter Length of list: 5\n",
      "Enter element to find: 6\n",
      "1\n",
      "2\n",
      "3\n",
      "4\n",
      "5\n",
      "False\n"
     ]
    }
   ],
   "source": [
    "def linearSearch(arr,x):\n",
    "    if (arr[0]==x):\n",
    "        return True\n",
    "    elif (len(arr)>1):\n",
    "        return linearSearch(arr[1:],x)\n",
    "    else:\n",
    "        return False\n",
    "n = int(input(\"Enter Length of list: \"))\n",
    "x = int(input(\"Enter element to find: \"))\n",
    "arr = [int(input()) for _ in range(n)]\n",
    "print(linearSearch(arr,x))"
   ]
  },
  {
   "cell_type": "code",
   "execution_count": 41,
   "metadata": {},
   "outputs": [
    {
     "name": "stdout",
     "output_type": "stream",
     "text": [
      "Enter Length of list: 5\n",
      "Enter element to find: 2\n",
      "0\n",
      "1\n",
      "2\n",
      "3\n",
      "4\n",
      "2\n"
     ]
    }
   ],
   "source": [
    "def linearSearch(arr,x):\n",
    "    n = len(arr)-1\n",
    "    if (arr[n]==x):\n",
    "        return n\n",
    "    elif (len(arr)>1):\n",
    "        return linearSearch(arr[:n],x)\n",
    "    else:\n",
    "        return False\n",
    "n = int(input(\"Enter Length of list: \"))\n",
    "x = int(input(\"Enter element to find: \"))\n",
    "arr = [int(input()) for _ in range(n)]\n",
    "print(linearSearch(arr,x))"
   ]
  },
  {
   "cell_type": "markdown",
   "metadata": {},
   "source": [
    "### Binary Search"
   ]
  },
  {
   "cell_type": "code",
   "execution_count": 112,
   "metadata": {},
   "outputs": [
    {
     "name": "stdout",
     "output_type": "stream",
     "text": [
      "Enter Length of list: 5\n",
      "Enter element to find: 9\n",
      "1\n",
      "2\n",
      "3\n",
      "4\n",
      "5\n",
      "Not Found\n"
     ]
    }
   ],
   "source": [
    "def binSearch(arr,x):\n",
    "    start = 0\n",
    "    end = len(arr)-1\n",
    "    mid = (end-start)//2\n",
    "    while (start<=end):\n",
    "        if (x==arr[mid]):\n",
    "            print(mid)\n",
    "            break\n",
    "        elif (x>arr[mid]):\n",
    "            start = mid+1\n",
    "            mid = start+(end-start)//2\n",
    "        elif (x<arr[mid]):\n",
    "            end = mid-1\n",
    "            mid = start+(end-start)//2\n",
    "    else:\n",
    "        print(\"Not Found\")\n",
    "n = int(input(\"Enter Length of list: \"))\n",
    "x = int(input(\"Enter element to find: \"))\n",
    "arr = [int(input()) for _ in range(n)]\n",
    "binSearch(arr,x)"
   ]
  },
  {
   "cell_type": "code",
   "execution_count": 117,
   "metadata": {},
   "outputs": [
    {
     "name": "stdout",
     "output_type": "stream",
     "text": [
      "Enter Length of list: 5\n",
      "Enter element to find: 6\n",
      "1\n",
      "2\n",
      "3\n",
      "4\n",
      "5\n",
      "Not Found\n"
     ]
    }
   ],
   "source": [
    "def binSearch(arr,start,end,x):\n",
    "    if start > end:\n",
    "        print(\"Not Found\")\n",
    "        return\n",
    "    mid = start+(end-start)//2\n",
    "    if (x==arr[mid]):\n",
    "        print(mid)\n",
    "    elif (x>arr[mid]):\n",
    "        binSearch(arr,mid+1,end,x)\n",
    "    elif (x<arr[mid]):\n",
    "        binSearch(arr,start,end-1,x)\n",
    "n = int(input(\"Enter Length of list: \"))\n",
    "x = int(input(\"Enter element to find: \"))\n",
    "arr = [int(input()) for _ in range(n)]\n",
    "end = len(arr)-1\n",
    "start = 0\n",
    "binSearch(arr,start,end,x)"
   ]
  },
  {
   "cell_type": "markdown",
   "metadata": {},
   "source": [
    "### Jump Search"
   ]
  },
  {
   "cell_type": "code",
   "execution_count": 135,
   "metadata": {},
   "outputs": [
    {
     "name": "stdout",
     "output_type": "stream",
     "text": [
      "Enter Length of list: 5\n",
      "Enter element to find: 5\n",
      "1\n",
      "2\n",
      "3\n",
      "4\n",
      "5\n",
      "4\n"
     ]
    }
   ],
   "source": [
    "import math \n",
    "def jumpSearch( arr , x , n ): \n",
    "    step = math.floor(math.sqrt(n)) \n",
    "    prev = 0\n",
    "    while arr[min(step, n)-1] < x: \n",
    "        prev = step \n",
    "        step += math.floor(math.sqrt(n)) \n",
    "        if prev >= n: \n",
    "            return -1 \n",
    "    while arr[prev] < x: \n",
    "        prev += 1\n",
    "        if prev == min(step, n): \n",
    "            return -1\n",
    "    if arr[prev] == x: \n",
    "        return prev   \n",
    "    return -1\n",
    "n = int(input(\"Enter Length of list: \"))\n",
    "x = int(input(\"Enter element to find: \"))\n",
    "arr = [int(input()) for _ in range(n)]\n",
    "print(jumpSearch(arr, x, n)) \n"
   ]
  },
  {
   "cell_type": "code",
   "execution_count": null,
   "metadata": {},
   "outputs": [],
   "source": []
  },
  {
   "cell_type": "code",
   "execution_count": null,
   "metadata": {},
   "outputs": [],
   "source": []
  }
 ],
 "metadata": {
  "kernelspec": {
   "display_name": "Python 3",
   "language": "python",
   "name": "python3"
  },
  "language_info": {
   "codemirror_mode": {
    "name": "ipython",
    "version": 3
   },
   "file_extension": ".py",
   "mimetype": "text/x-python",
   "name": "python",
   "nbconvert_exporter": "python",
   "pygments_lexer": "ipython3",
   "version": "3.8.5"
  }
 },
 "nbformat": 4,
 "nbformat_minor": 4
}
